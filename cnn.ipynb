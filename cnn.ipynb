{
 "cells": [
  {
   "cell_type": "code",
   "execution_count": 15,
   "metadata": {},
   "outputs": [],
   "source": [
    "import numpy as np\n",
    "import torch\n",
    "import matplotlib.pyplot as plt\n",
    "import torch.nn as nn\n",
    "import torch.nn.functional as F\n",
    "\n",
    "from sklearn.metrics import accuracy_score\n",
    "from sklearn.metrics import confusion_matrix\n",
    "\n",
    "import MNISTtools"
   ]
  },
  {
   "cell_type": "code",
   "execution_count": 16,
   "metadata": {},
   "outputs": [
    {
     "name": "stdout",
     "output_type": "stream",
     "text": [
      "x_train.shape= (784, 60000)\n",
      "y_train.shape= (60000,)\n",
      "x_test.shape= (784, 10000)\n"
     ]
    }
   ],
   "source": [
    "x_train, y_train = MNISTtools.load(dataset='training')\n",
    "x_test, y_test = MNISTtools.load(dataset='testing')\n",
    "print(\"x_train.shape=\",x_train.shape)\n",
    "print(\"y_train.shape=\",y_train.shape)\n",
    "print(\"x_test.shape=\",x_test.shape)"
   ]
  },
  {
   "cell_type": "markdown",
   "metadata": {},
   "source": [
    "To reduce the computation cost, we only select a small part of $n$ images for further analysis. _You might modify this value later to visualise its influence on the results._\n"
   ]
  },
  {
   "cell_type": "code",
   "execution_count": 17,
   "metadata": {},
   "outputs": [],
   "source": [
    "n = 7000\n",
    "x_train = x_train[:,1:n+1]\n",
    "y_train = y_train[1:n+1]"
   ]
  },
  {
   "cell_type": "code",
   "execution_count": 18,
   "metadata": {},
   "outputs": [
    {
     "data": {
      "image/png": "[encoded data removed]",
      "text/plain": [
       "<Figure size 432x288 with 1 Axes>"
      ]
     },
     "metadata": {
      "needs_background": "light"
     },
     "output_type": "display_data"
    },
    {
     "data": {
      "image/png": "[encoded data removed]",
      "text/plain": [
       "<Figure size 432x288 with 1 Axes>"
      ]
     },
     "metadata": {
      "needs_background": "light"
     },
     "output_type": "display_data"
    }
   ],
   "source": [
    "x_test_im = x_test.reshape((28, 28, 1, -1))\n",
    "x_train_im = x_train.reshape((28, 28, 1, -1))\n",
    "MNISTtools.show(x_train_im[:, :, 0, 42])\n",
    "plt.show()\n",
    "MNISTtools.show(x_train_im[:, :, 0, 200])\n",
    "plt.show()"
   ]
  },
  {
   "cell_type": "code",
   "execution_count": 19,
   "metadata": {},
   "outputs": [
    {
     "name": "stdout",
     "output_type": "stream",
     "text": [
      "x_test_im.shape= (10000, 1, 28, 28)\n"
     ]
    }
   ],
   "source": [
    "x_train_im=x_train.T.reshape((-1,1,28, 28))\n",
    "x_test_im=x_test.T.reshape((-1,1,28,28))\n",
    "print(\"x_test_im.shape=\",x_test_im.shape)"
   ]
  },
  {
   "cell_type": "code",
   "execution_count": 20,
   "metadata": {},
   "outputs": [],
   "source": [
    "def normalize_MNIST_images(x):\n",
    "    return 2 * x.astype(np.float32) / 255. - 1\n",
    "x_train_im = normalize_MNIST_images(x_train_im)\n",
    "x_test_im = normalize_MNIST_images(x_test_im)\n"
   ]
  },
  {
   "cell_type": "code",
   "execution_count": 21,
   "metadata": {},
   "outputs": [
    {
     "name": "stdout",
     "output_type": "stream",
     "text": [
      "(7000, 1, 28, 28)\n",
      "torch.Size([7000, 1, 28, 28])\n",
      "torch.Size([10000, 1, 28, 28])\n"
     ]
    }
   ],
   "source": [
    "print(x_train_im.shape)\n",
    "x_train_torch = torch.from_numpy(x_train_im)\n",
    "print(x_train_torch.shape)\n",
    "y_train_torch = torch.from_numpy(y_train)\n",
    "x_test_torch = torch.from_numpy(x_test_im)\n",
    "print(x_test_torch.shape)\n",
    "y_test_torch = torch.from_numpy(y_test)"
   ]
  },
  {
   "cell_type": "code",
   "execution_count": 22,
   "metadata": {},
   "outputs": [
    {
     "data": {
      "text/plain": [
       "'#  architecture so that the last layer before the final linear linear is of size 128\\n# class Net(nn.Module):\\n#     def __init__(self):\\n#         super(Net, self).__init__()\\n#         self.conv1 = nn.Conv2d(1, 32, 3, 1)\\n#         self.conv2 = nn.Conv2d(32, 64, 3, 1)\\n#         self.dropout1 = nn.Dropout2d(0.25)\\n#         self.dropout2 = nn.Dropout2d(0.5)\\n#         self.fc1 = nn.Linear(9216, 128)\\n#         self.fc2 = nn.Linear(128, 10)\\n\\n#     def forward(self, x):\\n#         x = self.conv1(x)\\n#         x = F.relu(x)\\n#         x = self.conv2(x)\\n#         x = F.relu(x)\\n#         x = F.max_pool2d(x, 2)\\n#         x = self.dropout1(x)\\n#         x = torch.flatten(x, 1)\\n#         x = self.fc1(x)\\n#         x = F.relu(x)\\n#         x = self.dropout2(x)\\n#         x = self.fc2(x)\\n#         return F.log_softmax(x, dim=1)\\n\\n\\n\\n\\n# net = Net()\\n# print(net)    '"
      ]
     },
     "execution_count": 22,
     "metadata": {},
     "output_type": "execute_result"
    }
   ],
   "source": [
    "'''#define the same network as in the next notebook but with a different'''\n",
    "'''#  architecture so that the last layer before the final linear linear is of size 128\n",
    "# class Net(nn.Module):\n",
    "#     def __init__(self):\n",
    "#         super(Net, self).__init__()\n",
    "#         self.conv1 = nn.Conv2d(1, 32, 3, 1)\n",
    "#         self.conv2 = nn.Conv2d(32, 64, 3, 1)\n",
    "#         self.dropout1 = nn.Dropout2d(0.25)\n",
    "#         self.dropout2 = nn.Dropout2d(0.5)\n",
    "#         self.fc1 = nn.Linear(9216, 128)\n",
    "#         self.fc2 = nn.Linear(128, 10)\n",
    "\n",
    "#     def forward(self, x):\n",
    "#         x = self.conv1(x)\n",
    "#         x = F.relu(x)\n",
    "#         x = self.conv2(x)\n",
    "#         x = F.relu(x)\n",
    "#         x = F.max_pool2d(x, 2)\n",
    "#         x = self.dropout1(x)\n",
    "#         x = torch.flatten(x, 1)\n",
    "#         x = self.fc1(x)\n",
    "#         x = F.relu(x)\n",
    "#         x = self.dropout2(x)\n",
    "#         x = self.fc2(x)\n",
    "#         return F.log_softmax(x, dim=1)\n",
    "\n",
    "\n",
    "\n",
    "\n",
    "# net = Net()\n",
    "# print(net)    '''\n"
   ]
  },
  {
   "cell_type": "code",
   "execution_count": 23,
   "metadata": {},
   "outputs": [
    {
     "name": "stdout",
     "output_type": "stream",
     "text": [
      "LeNet(\n",
      "  (conv1): Conv2d(1, 6, kernel_size=(5, 5), stride=(1, 1))\n",
      "  (conv2): Conv2d(6, 16, kernel_size=(5, 5), stride=(1, 1))\n",
      "  (fc1): Linear(in_features=256, out_features=128, bias=True)\n",
      "  (fc3): Linear(in_features=128, out_features=128, bias=True)\n",
      "  (fc4): Linear(in_features=128, out_features=10, bias=True)\n",
      ")\n"
     ]
    }
   ],
   "source": [
    "# The neural networks class\n",
    "class LeNet(nn.Module):\n",
    "#16*16=\n",
    "    # define our network structure\n",
    "    def __init__(self):\n",
    "        super(LeNet, self).__init__()\n",
    "        self.conv1 = nn.Conv2d(1, 6 , 5)\n",
    "        self.conv2 = nn.Conv2d(6,16,5)# COMPLETE\n",
    "        self.fc1 = nn.Linear(16*4*4, 128)# COMPLETE\n",
    "        # self.fc2 = nn.Linear(120, 84)\n",
    "        self.fc3 = nn.Linear(128, 128)\n",
    "        self.fc4 = nn.Linear(128, 10)# COMPLETE\n",
    "\n",
    "    # define one forward pass through the network\n",
    "    def forward(self, x):\n",
    "        x = F.max_pool2d(F.relu(self.conv1(x)), (2, 2))\n",
    "        x = F.max_pool2d(F.relu(self.conv2(x)), (2, 2)) # COMPLETE\n",
    "        x = x.view(-1, self.num_flat_features(x))\n",
    "        x = F.relu(self.fc1(x))# COMPLETE\n",
    "        # x = F.relu(self.fc2(x))\n",
    "        x = self.fc3(x)\n",
    "        x = self.fc4(x)\n",
    "        return x\n",
    "    \n",
    "    # helper function to understand the dimensions\n",
    "    def num_flat_features(self, x):\n",
    "        size = x.size()[1:] # all dimensions except the batch dimension\n",
    "        return np.prod(size)\n",
    "\n",
    "net = LeNet()\n",
    "print(net)"
   ]
  },
  {
   "cell_type": "code",
   "execution_count": 24,
   "metadata": {},
   "outputs": [],
   "source": [
    "with torch.no_grad():\n",
    "    pred = net(x_test_torch)"
   ]
  },
  {
   "cell_type": "code",
   "execution_count": 25,
   "metadata": {},
   "outputs": [],
   "source": [
    "# T: number of epochs\n",
    "# B: minibatch size, \n",
    "# gamma: step size,\n",
    "# rho: momentum.\n",
    "from math import ceil\n",
    "def backprop_deep(x_train, y_train, net, T, B=100, gamma=.001, rho=.9):\n",
    "    N = x_train.size()[0]        # Training set size\n",
    "    NB = N//B   # Number of minibatches\n",
    "    print(NB)\n",
    "    criterion = nn.CrossEntropyLoss()\n",
    "    optimizer = torch.optim.SGD(net.parameters(), lr=0.01, momentum=rho) \n",
    "    \n",
    "    loss_values = []\n",
    "    for epoch in range(T):\n",
    "        running_loss = 0.0\n",
    "        shuffled_indices = np.random.permutation(range(N))\n",
    "        for k in range(NB):\n",
    "            # Extract k-th minibatch from xtrain and ltrain\n",
    "            minibatch_indices = shuffled_indices[B*k:min(B*(k+1), N)]\n",
    "            inputs = x_train[minibatch_indices]\n",
    "            labels = y_train[minibatch_indices]\n",
    "\n",
    "            # Initialize the gradients to zero\n",
    "            optimizer.zero_grad()\n",
    "\n",
    "            # Forward propogation\n",
    "            outputs = net(inputs) \n",
    "\n",
    "            # Error evaluation\n",
    "            loss = criterion(outputs, labels)\n",
    "\n",
    "            # Back propogation\n",
    "            loss.backward()\n",
    "             \n",
    "\n",
    "            # Optimize step\n",
    "            optimizer.step()\n",
    "\n",
    "            # Compute and print statistics\n",
    "            with torch.no_grad():\n",
    "                running_loss += loss.item()*inputs.size(0)\n",
    "  \n",
    "            \n",
    "        loss_values.append(running_loss/NB)\n",
    "  \n",
    "    plt.plot(loss_values)\n",
    "    return net"
   ]
  },
  {
   "cell_type": "code",
   "execution_count": 26,
   "metadata": {},
   "outputs": [
    {
     "name": "stdout",
     "output_type": "stream",
     "text": [
      "70\n"
     ]
    },
    {
     "data": {
      "image/png": "[encoded data removed]",
      "text/plain": [
       "<Figure size 432x288 with 1 Axes>"
      ]
     },
     "metadata": {
      "needs_background": "light"
     },
     "output_type": "display_data"
    }
   ],
   "source": [
    "net = backprop_deep(x_train_torch, y_train_torch, net, T=50)"
   ]
  },
  {
   "cell_type": "code",
   "execution_count": 27,
   "metadata": {},
   "outputs": [
    {
     "name": "stdout",
     "output_type": "stream",
     "text": [
      "précision pour les données d'entraînement= tensor(100.)\n",
      "précision pour les données de test= tensor(97.4700)\n"
     ]
    }
   ],
   "source": [
    "with torch.no_grad():\n",
    "    y=net(x_train_torch)\n",
    "#     print(y)\n",
    "_, pred_labels_sgd = y.max(1)\n",
    "print(\"précision pour les données d'entraînement=\",100 * (y_train_torch == pred_labels_sgd).float().mean())\n",
    "\n",
    "\n",
    "\n",
    "\n",
    "with torch.no_grad():\n",
    "    y=net(x_test_torch)\n",
    "_, pred_labels_sgd = y.max(1)\n",
    "print(\"précision pour les données de test=\",100 * (y_test_torch == pred_labels_sgd).float().mean())\n",
    "\n",
    "\n",
    "\n",
    "\n",
    "\n"
   ]
  },
  {
   "cell_type": "code",
   "execution_count": 28,
   "metadata": {},
   "outputs": [
    {
     "data": {
      "image/png": "[encoded data removed]",
      "text/plain": [
       "<Figure size 432x288 with 1 Axes>"
      ]
     },
     "metadata": {
      "needs_background": "light"
     },
     "output_type": "display_data"
    },
    {
     "name": "stdout",
     "output_type": "stream",
     "text": [
      "1\n",
      "1\n"
     ]
    },
    {
     "data": {
      "image/png": "[encoded data removed]",
      "text/plain": [
       "<Figure size 432x288 with 1 Axes>"
      ]
     },
     "metadata": {
      "needs_background": "light"
     },
     "output_type": "display_data"
    },
    {
     "name": "stdout",
     "output_type": "stream",
     "text": [
      "précision pour les données de test= tensor(97.4700)\n"
     ]
    }
   ],
   "source": [
    "#show the images with the predicted labels\n",
    "with torch.no_grad():\n",
    "    y=net(x_test_torch)\n",
    "_, pred_labels_sgd = y.max(1)\n",
    "pred_labels_sgd = pred_labels_sgd.numpy()\n",
    "\n",
    "\n",
    "x_test_im = x_test.reshape((28, 28, 1, -1))\n",
    "\n",
    "MNISTtools.show(x_test_im[:, :, 0, 40])\n",
    "print(y_test[40])\n",
    "print(pred_labels_sgd[40])\n",
    "plt.show()\n",
    "MNISTtools.show(x_test_im[:, :, 0, 200])\n",
    "plt.show()\n",
    "#accuracy of the network on the test set\n",
    "with torch.no_grad():\n",
    "    y=net(x_test_torch)\n",
    "_, pred_labels_sgd = y.max(1)\n",
    "print(\"précision pour les données de test=\",100 * (y_test_torch == pred_labels_sgd).float().mean())\n",
    "\n"
   ]
  }
 ],
 "metadata": {
  "interpreter": {
   "hash": "b0fa6594d8f4cbf19f97940f81e996739fb7646882a419484c72d19e05852a7e"
  },
  "kernelspec": {
   "display_name": "Python 3.9.12 64-bit",
   "language": "python",
   "name": "python3"
  },
  "language_info": {
   "codemirror_mode": {
    "name": "ipython",
    "version": 3
   },
   "file_extension": ".py",
   "mimetype": "text/x-python",
   "name": "python",
   "nbconvert_exporter": "python",
   "pygments_lexer": "ipython3",
   "version": "3.9.12"
  },
  "orig_nbformat": 4
 },
 "nbformat": 4,
 "nbformat_minor": 2
}
