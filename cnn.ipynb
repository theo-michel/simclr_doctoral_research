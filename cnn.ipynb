{
 "cells": [
  {
   "cell_type": "code",
<<<<<<< HEAD
   "execution_count": 50,
=======
   "execution_count": 4,
>>>>>>> 54285103d14698281997d1a814c27f01408ada58
   "metadata": {},
   "outputs": [],
   "source": [
    "import numpy as np\n",
    "import torch\n",
    "import matplotlib.pyplot as plt\n",
    "import torch.nn as nn\n",
    "import torch.nn.functional as F\n",
    "\n",
    "from sklearn.metrics import accuracy_score\n",
    "from sklearn.metrics import confusion_matrix\n",
    "import MNISTtools"
   ]
  },
  {
   "cell_type": "code",
<<<<<<< HEAD
   "execution_count": 51,
=======
   "execution_count": 5,
>>>>>>> 54285103d14698281997d1a814c27f01408ada58
   "metadata": {},
   "outputs": [
    {
     "ename": "NameError",
     "evalue": "name 'MNISTtools' is not defined",
     "output_type": "error",
     "traceback": [
      "\u001b[1;31m---------------------------------------------------------------------------\u001b[0m",
      "\u001b[1;31mNameError\u001b[0m                                 Traceback (most recent call last)",
      "\u001b[1;32mc:\\Users\\theob\\simclr_doctoral_research-1\\cnn.ipynb Cell 2'\u001b[0m in \u001b[0;36m<cell line: 1>\u001b[1;34m()\u001b[0m\n\u001b[1;32m----> <a href='vscode-notebook-cell:/c%3A/Users/theob/simclr_doctoral_research-1/cnn.ipynb#ch0000001?line=0'>1</a>\u001b[0m x_train, y_train \u001b[39m=\u001b[39m MNISTtools\u001b[39m.\u001b[39mload(dataset\u001b[39m=\u001b[39m\u001b[39m'\u001b[39m\u001b[39mtraining\u001b[39m\u001b[39m'\u001b[39m)\n\u001b[0;32m      <a href='vscode-notebook-cell:/c%3A/Users/theob/simclr_doctoral_research-1/cnn.ipynb#ch0000001?line=1'>2</a>\u001b[0m x_test, y_test \u001b[39m=\u001b[39m MNISTtools\u001b[39m.\u001b[39mload(dataset\u001b[39m=\u001b[39m\u001b[39m'\u001b[39m\u001b[39mtesting\u001b[39m\u001b[39m'\u001b[39m)\n\u001b[0;32m      <a href='vscode-notebook-cell:/c%3A/Users/theob/simclr_doctoral_research-1/cnn.ipynb#ch0000001?line=2'>3</a>\u001b[0m \u001b[39mprint\u001b[39m(\u001b[39m\"\u001b[39m\u001b[39mx_train.shape=\u001b[39m\u001b[39m\"\u001b[39m,x_train\u001b[39m.\u001b[39mshape)\n",
      "\u001b[1;31mNameError\u001b[0m: name 'MNISTtools' is not defined"
     ]
    }
   ],
   "source": [
    "x_train, y_train = MNISTtools.load(dataset='training')\n",
    "x_test, y_test = MNISTtools.load(dataset='testing')\n",
    "print(\"x_train.shape=\",x_train.shape)\n",
    "print(\"y_train.shape=\",y_train.shape)\n",
    "print(\"x_test.shape=\",x_test.shape)"
   ]
  },
  {
   "cell_type": "markdown",
   "metadata": {},
   "source": [
    "To reduce the computation cost, we only select a small part of $n$ images for further analysis. _You might modify this value later to visualise its influence on the results._\n"
   ]
  },
  {
   "cell_type": "code",
<<<<<<< HEAD
   "execution_count": 52,
=======
   "execution_count": null,
>>>>>>> 54285103d14698281997d1a814c27f01408ada58
   "metadata": {},
   "outputs": [],
   "source": [
    "n = 7000\n",
    "x_train = x_train[:,1:n+1]\n",
    "y_train = y_train[1:n+1]"
   ]
  },
  {
   "cell_type": "code",
<<<<<<< HEAD
   "execution_count": 53,
=======
   "execution_count": null,
>>>>>>> 54285103d14698281997d1a814c27f01408ada58
   "metadata": {},
   "outputs": [
    {
     "data": {
      "image/png": "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",
      "text/plain": [
       "<Figure size 432x288 with 1 Axes>"
      ]
     },
     "metadata": {
      "needs_background": "light"
     },
     "output_type": "display_data"
    },
    {
     "data": {
      "image/png": "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",
      "text/plain": [
       "<Figure size 432x288 with 1 Axes>"
      ]
     },
     "metadata": {
      "needs_background": "light"
     },
     "output_type": "display_data"
    }
   ],
   "source": [
    "x_test_im = x_test.reshape((28, 28, 1, -1))\n",
    "x_train_im = x_train.reshape((28, 28, 1, -1))\n",
    "MNISTtools.show(x_train_im[:, :, 0, 42])\n",
    "plt.show()\n",
    "MNISTtools.show(x_train_im[:, :, 0, 200])\n",
    "plt.show()"
   ]
  },
  {
   "cell_type": "code",
<<<<<<< HEAD
   "execution_count": 54,
=======
   "execution_count": null,
>>>>>>> 54285103d14698281997d1a814c27f01408ada58
   "metadata": {},
   "outputs": [
    {
     "name": "stdout",
     "output_type": "stream",
     "text": [
      "x_test_im.shape= (10000, 1, 28, 28)\n"
     ]
    }
   ],
   "source": [
    "x_train_im=x_train.T.reshape((-1,1,28, 28))\n",
    "x_test_im=x_test.T.reshape((-1,1,28,28))\n",
    "print(\"x_test_im.shape=\",x_test_im.shape)"
   ]
  },
  {
   "cell_type": "code",
<<<<<<< HEAD
   "execution_count": 55,
=======
   "execution_count": null,
>>>>>>> 54285103d14698281997d1a814c27f01408ada58
   "metadata": {},
   "outputs": [],
   "source": [
    "def normalize_MNIST_images(x):\n",
    "    return 2 * x.astype(np.float32) / 255. - 1\n",
    "x_train_im = normalize_MNIST_images(x_train_im)\n",
    "x_test_im = normalize_MNIST_images(x_test_im)\n"
   ]
  },
  {
   "cell_type": "code",
<<<<<<< HEAD
   "execution_count": 56,
=======
   "execution_count": null,
>>>>>>> 54285103d14698281997d1a814c27f01408ada58
   "metadata": {},
   "outputs": [
    {
     "name": "stdout",
     "output_type": "stream",
     "text": [
      "(7000, 1, 28, 28)\n",
      "torch.Size([7000, 1, 28, 28])\n",
      "torch.Size([10000, 1, 28, 28])\n"
     ]
    }
   ],
   "source": [
    "print(x_train_im.shape)\n",
    "x_train_torch = torch.from_numpy(x_train_im)\n",
    "print(x_train_torch.shape)\n",
    "y_train_torch = torch.from_numpy(y_train)\n",
    "x_test_torch = torch.from_numpy(x_test_im)\n",
    "print(x_test_torch.shape)\n",
    "y_test_torch = torch.from_numpy(y_test)"
   ]
  },
  {
   "cell_type": "code",
<<<<<<< HEAD
   "execution_count": 57,
   "metadata": {},
   "outputs": [],
   "source": [
    "#define the same network as in the next notebook but with a different architecture so that the last layer before the final linear linear is of size 128\n",
    "# class Net(nn.Module):\n",
    "#     def __init__(self):\n",
    "#         super(Net, self).__init__()\n",
    "#         self.conv1 = nn.Conv2d(1, 32, 3, 1)\n",
    "#         self.conv2 = nn.Conv2d(32, 64, 3, 1)\n",
    "#         self.dropout1 = nn.Dropout2d(0.25)\n",
    "#         self.dropout2 = nn.Dropout2d(0.5)\n",
    "#         self.fc1 = nn.Linear(9216, 128)\n",
    "#         self.fc2 = nn.Linear(128, 10)\n",
    "\n",
    "#     def forward(self, x):\n",
    "#         x = self.conv1(x)\n",
    "#         x = F.relu(x)\n",
    "#         x = self.conv2(x)\n",
    "#         x = F.relu(x)\n",
    "#         x = F.max_pool2d(x, 2)\n",
    "#         x = self.dropout1(x)\n",
    "#         x = torch.flatten(x, 1)\n",
    "#         x = self.fc1(x)\n",
    "#         x = F.relu(x)\n",
    "#         x = self.dropout2(x)\n",
    "#         x = self.fc2(x)\n",
    "#         return F.log_softmax(x, dim=1)\n",
    "\n",
    "\n",
    "\n",
    "\n",
    "# net = Net()\n",
    "# print(net)    \n"
   ]
  },
  {
   "cell_type": "code",
   "execution_count": 58,
=======
   "execution_count": null,
>>>>>>> 54285103d14698281997d1a814c27f01408ada58
   "metadata": {},
   "outputs": [
    {
     "name": "stdout",
     "output_type": "stream",
     "text": [
      "LeNet(\n",
      "  (conv1): Conv2d(1, 6, kernel_size=(5, 5), stride=(1, 1))\n",
      "  (conv2): Conv2d(6, 16, kernel_size=(5, 5), stride=(1, 1))\n",
      "  (fc1): Linear(in_features=256, out_features=128, bias=True)\n",
      "  (fc4): Linear(in_features=128, out_features=10, bias=True)\n",
      ")\n"
     ]
    }
   ],
   "source": [
    "# The neural networks class\n",
    "class LeNet(nn.Module):\n",
    "#16*16=\n",
    "    # define our network structure\n",
    "    def __init__(self):\n",
    "        super(LeNet, self).__init__()\n",
    "        self.conv1 = nn.Conv2d(1, 6 , 5)\n",
    "        self.conv2 = nn.Conv2d(6,16,5)# COMPLETE\n",
    "        self.fc1 = nn.Linear(16*4*4, 128)# COMPLETE\n",
<<<<<<< HEAD
    "        # self.fc2 = nn.Linear(120, 84)\n",
    "        # self.fc3 = nn.Linear(84, 10)\n",
    "        self.fc4 = nn.Linear(128, 10)# COMPLETE\n",
=======
    "        self.fc2 = nn.Linear(128, 128)\n",
    "        self.fc3 = nn.Linear(128, 10)\n",
>>>>>>> 54285103d14698281997d1a814c27f01408ada58
    "\n",
    "    # define one forward pass through the network\n",
    "    def forward(self, x):\n",
    "        x = F.max_pool2d(F.relu(self.conv1(x)), (2, 2))\n",
    "        x = F.max_pool2d(F.relu(self.conv2(x)), (2, 2)) # COMPLETE\n",
    "        x = x.view(-1, self.num_flat_features(x))\n",
    "        x = F.relu(self.fc1(x))# COMPLETE\n",
    "        # x = F.relu(self.fc2(x))\n",
    "        # x = self.fc3(x)\n",
    "        x = self.fc4(x)\n",
    "        return x\n",
    "    \n",
    "    # helper function to understand the dimensions\n",
    "    def num_flat_features(self, x):\n",
    "        size = x.size()[1:] # all dimensions except the batch dimension\n",
    "        return np.prod(size)\n",
    "\n",
    "net = LeNet()\n",
    "print(net)"
   ]
  },
  {
   "cell_type": "code",
<<<<<<< HEAD
   "execution_count": 59,
=======
   "execution_count": null,
>>>>>>> 54285103d14698281997d1a814c27f01408ada58
   "metadata": {},
   "outputs": [],
   "source": [
    "with torch.no_grad():\n",
    "    pred = net(x_test_torch)"
   ]
  },
  {
   "cell_type": "code",
<<<<<<< HEAD
   "execution_count": 60,
=======
   "execution_count": null,
>>>>>>> 54285103d14698281997d1a814c27f01408ada58
   "metadata": {},
   "outputs": [],
   "source": [
    "# T: number of epochs\n",
    "# B: minibatch size, \n",
    "# gamma: step size,\n",
    "# rho: momentum.\n",
    "from math import ceil\n",
    "def backprop_deep(x_train, y_train, net, T, B=100, gamma=.001, rho=.9):\n",
    "    N = x_train.size()[0]        # Training set size\n",
    "    NB = N//B   # Number of minibatches\n",
    "    print(NB)\n",
    "    criterion = nn.CrossEntropyLoss()\n",
    "    optimizer = torch.optim.SGD(net.parameters(), lr=0.01, momentum=rho) \n",
    "    \n",
    "    loss_values = []\n",
    "    for epoch in range(T):\n",
    "        running_loss = 0.0\n",
    "        shuffled_indices = np.random.permutation(range(N))\n",
    "        for k in range(NB):\n",
    "            # Extract k-th minibatch from xtrain and ltrain\n",
    "            minibatch_indices = shuffled_indices[B*k:min(B*(k+1), N)]\n",
    "            inputs = x_train[minibatch_indices]\n",
    "            labels = y_train[minibatch_indices]\n",
    "\n",
    "            # Initialize the gradients to zero\n",
    "            optimizer.zero_grad()\n",
    "\n",
    "            # Forward propogation\n",
    "            outputs = net(inputs) \n",
    "\n",
    "            # Error evaluation\n",
    "            loss = criterion(outputs, labels)\n",
    "\n",
    "            # Back propogation\n",
    "            loss.backward()\n",
    "             \n",
    "\n",
    "            # Optimize step\n",
    "            optimizer.step()\n",
    "\n",
    "            # Compute and print statistics\n",
    "            with torch.no_grad():\n",
    "                running_loss += loss.item()*inputs.size(0)\n",
    "  \n",
    "            \n",
    "        loss_values.append(running_loss/NB)\n",
    "  \n",
    "    plt.plot(loss_values)\n",
    "    return net"
   ]
  },
  {
   "cell_type": "code",
<<<<<<< HEAD
   "execution_count": 61,
=======
   "execution_count": null,
>>>>>>> 54285103d14698281997d1a814c27f01408ada58
   "metadata": {},
   "outputs": [
    {
     "name": "stdout",
     "output_type": "stream",
     "text": [
      "70\n"
     ]
    },
    {
     "data": {
      "image/png": "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",
      "text/plain": [
       "<Figure size 432x288 with 1 Axes>"
      ]
     },
     "metadata": {
      "needs_background": "light"
     },
     "output_type": "display_data"
    }
   ],
   "source": [
    "net = backprop_deep(x_train_torch, y_train_torch, net, T=50)"
   ]
  },
  {
   "cell_type": "code",
<<<<<<< HEAD
   "execution_count": 62,
=======
   "execution_count": null,
>>>>>>> 54285103d14698281997d1a814c27f01408ada58
   "metadata": {},
   "outputs": [
    {
     "name": "stdout",
     "output_type": "stream",
     "text": [
      "précision pour les données d'entraînement= tensor(100.)\n",
      "précision pour les données de test= tensor(97.3100)\n"
     ]
    }
   ],
   "source": [
    "\n",
    "with torch.no_grad():\n",
    "    y=net(x_train_torch)\n",
    "#     print(y)\n",
    "_, pred_labels_sgd = y.max(1)\n",
    "print(\"précision pour les données d'entraînement=\",100 * (y_train_torch == pred_labels_sgd).float().mean())\n",
    "\n",
    "with torch.no_grad():\n",
    "    y=net(x_test_torch)\n",
    "_, pred_labels_sgd = y.max(1)\n",
    "print(\"précision pour les données de test=\",100 * (y_test_torch == pred_labels_sgd).float().mean())\n",
    "\n",
    "\n",
    "\n",
    "\n",
    "\n"
   ]
  },
  {
   "cell_type": "code",
<<<<<<< HEAD
   "execution_count": 63,
=======
   "execution_count": null,
>>>>>>> 54285103d14698281997d1a814c27f01408ada58
   "metadata": {},
   "outputs": [
    {
     "data": {
      "image/png": "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",
      "text/plain": [
       "<Figure size 432x288 with 1 Axes>"
      ]
     },
     "metadata": {
      "needs_background": "light"
     },
     "output_type": "display_data"
    },
    {
     "name": "stdout",
     "output_type": "stream",
     "text": [
      "1\n",
      "1\n"
     ]
    },
    {
     "data": {
      "image/png": "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",
      "text/plain": [
       "<Figure size 432x288 with 1 Axes>"
      ]
     },
     "metadata": {
      "needs_background": "light"
     },
     "output_type": "display_data"
    },
    {
     "name": "stdout",
     "output_type": "stream",
     "text": [
      "précision pour les données de test= tensor(97.3100)\n"
     ]
    }
   ],
   "source": [
    "#show the images with the predicted labels\n",
    "with torch.no_grad():\n",
    "    y=net(x_test_torch)\n",
    "_, pred_labels_sgd = y.max(1)\n",
    "pred_labels_sgd = pred_labels_sgd.numpy()\n",
    "\n",
    "\n",
    "x_test_im = x_test.reshape((28, 28, 1, -1))\n",
    "\n",
    "MNISTtools.show(x_test_im[:, :, 0, 40])\n",
    "print(y_test[40])\n",
    "print(pred_labels_sgd[40])\n",
    "plt.show()\n",
    "MNISTtools.show(x_test_im[:, :, 0, 200])\n",
    "plt.show()\n",
    "#accuracy of the network on the test set\n",
    "with torch.no_grad():\n",
    "    y=net(x_test_torch)\n",
    "_, pred_labels_sgd = y.max(1)\n",
    "print(\"précision pour les données de test=\",100 * (y_test_torch == pred_labels_sgd).float().mean())\n",
    "\n"
   ]
  }
 ],
 "metadata": {
  "interpreter": {
   "hash": "b0fa6594d8f4cbf19f97940f81e996739fb7646882a419484c72d19e05852a7e"
  },
  "kernelspec": {
   "display_name": "Python 3.9.12 64-bit",
   "language": "python",
   "name": "python3"
  },
  "language_info": {
   "codemirror_mode": {
    "name": "ipython",
    "version": 3
   },
   "file_extension": ".py",
   "mimetype": "text/x-python",
   "name": "python",
   "nbconvert_exporter": "python",
   "pygments_lexer": "ipython3",
   "version": "3.10.4"
  },
  "orig_nbformat": 4
 },
 "nbformat": 4,
 "nbformat_minor": 2
}
